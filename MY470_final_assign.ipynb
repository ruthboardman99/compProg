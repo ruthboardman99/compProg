{
 "cells": [
  {
   "cell_type": "markdown",
   "metadata": {
    "slideshow": {
     "slide_type": "slide"
    }
   },
   "source": [
    "### MY470 Computer Programming\n",
    "\n",
    "### Final Assignment, MT 2022\n",
    "\n",
    "#### \\*\\*\\* Due 12:00 noon on Monday, January 23, 2023 \\*\\*\\*"
   ]
  },
  {
   "cell_type": "markdown",
   "metadata": {
    "slideshow": {
     "slide_type": "slide"
    }
   },
   "source": [
    "---\n",
    "## The homophily and social contagion of cheating\n",
    "\n",
    "The final assignment asks you to use the computational thinking and programming skills you learned in the course to answer an empirical social science question. You are expected to apply the best practices and theoretical concepts we covered in the course to produce a program that not only returns the correct output but is also legible, modular, and reasonably optimized. The assignment assumes mastery of loops, conditionals, and functions, as well as awareness of issues related to runtime performance.\n",
    "\n",
    "In the assignment, we will study the homophily and social contagion of cheating in the massive multiplayer online game PlayerUnknown's Battlegrounds (PUBG). Cheating in this context means the adoption of unapproved software that gives the player an unfair advantage in the game (e.g. being able to see through walls). \n",
    "\n",
    "Our hypotheses are that cheaters tend to associate with other cheaters but also, players who interact with cheaters become likely to adopt cheating themselves. To provide preliminary evidence for these hypotheses, we will:\n",
    "\n",
    "1. Observe whether cheaters tend to team up with other cheaters more than chance.\n",
    "2. Observe whether players who observe cheaters are likely to become cheaters more than chance.\n",
    "3. Observe whether players who are killed by cheaters are likely to become cheaters more than chance.\n",
    "\n",
    "To test the \"more than chance\" part, we will simulate alternative universes in which the players played the same game but joined a different team or happened to be killed by someone else at a different time. We will then compare how what we observe in the actual data compares to what we would expect in a \"randomized\" world.  \n",
    "\n",
    "**NOTE: You are only allowed to use fundamental Python data types (lists, tuples, dictionaries, numpy.ndarray, etc.) to complete this assignment.** You are not allowed to use advanced data querying and data analysis packages such as pandas, sqlite, networkx, or similar. We impose this restriction in order to test your grasp of fundamental programming concepts, not your scripting experience with Python libraries from before or from other courses you may be taking. \n",
    "\n",
    "#### Hints\n",
    "\n",
    "Although this assignment is quite streamlined, imagine that the tasks here are part of a larger project. How would you structure your program if in the future you may need to use a different dataset with similar structure, manipulate the data differently, add additional analyses, or modify the focus of the current analysis?  \n",
    "\n",
    "Keep different data manipulations in separate functions/methods and group related functions/classes in separate `.py` files. Name your modules in an informative way."
   ]
  },
  {
   "cell_type": "markdown",
   "metadata": {
    "slideshow": {
     "slide_type": "slide"
    }
   },
   "source": [
    "### Data\n",
    "\n",
    "You will find the data in the repository [https://github.com/lse-my470/assignment-final-data.git](https://github.com/lse-my470/assignment-final-data.git). Please clone the data repository in the same directory where you clone the repository `assignment-final-yourgithubname`. Keep the name for the data folder `assignment-final-data`. Any time when you refer to the data in your code, please use a relative path such as `'../assignment-final-data/filename.txt'` instead of an absolute path such as `'/Users/myname/Documents/my470/assignment-final-data/filename.txt'`. This way, we will be able to test your submission with our own copy of the data without having to modify your code.\n",
    "\n",
    "The data were collected by Jinny Kim (LSE MSc ASDS '19). The repository contains the following files:\n",
    "\n",
    "* `cheaters.txt` – contains cheaters who played between March 1 and March 10, 2019\n",
    "    1. player account id\n",
    "    2. estimated date when the player started cheating\n",
    "    3. date when the player's account was banned due to cheating\n",
    "\n",
    "\n",
    "* `kills.txt` – contains the killings done in 6,000 randomly selected matches played between March 1 and March 10, 2019\n",
    "    1. match id \n",
    "    2. account id of the killer\n",
    "    3. account id of the player who got killed\n",
    "    4. time when the kill happened\n",
    " \n",
    " \n",
    "* `team_ids.txt` – contains the team ids for players in 5,419 team-play matches in the same period. If a match from the kills.txt file does not appear in these data, we will assume that it was in single-player mode.  \n",
    "    1. match id \n",
    "    2. player account id\n",
    "    3. team id in match\n",
    "    \n",
    "You should not modify the original data in any way. Similarly, you should not duplicate the data in this repository but instead use a relative path to access them.\n",
    "\n",
    "### Output\n",
    "\n",
    "The tasks ask you to output actual counts and expecteded counts (mean with 95% confidence interval). To estimate the 95% conifdence intervals, ignore the small sample size and the fact that we are dealing with count data, and simply use the approximation: 95% CI $= \\mu \\pm 1.96 \\frac{\\sigma}{\\sqrt{n}}$, where $\\mu$ is the mean and $\\sigma$ the standard deviation of the counts in the $n=20$ randomizations. You are free to use `statsmodels` or `numpy` to calculate these values.\n",
    "\n",
    "\n",
    "#### Hints\n",
    "\n",
    "When writing your code, test it on a small \"toy dataset\", instead of the entire data. This way, you won't need to wait for minutes/hours just to find out that you have a syntax error!\n",
    "\n",
    "If the randomization is time consuming, it may be worth finding a way to save the data you generate on hard disk so that you don't need to run the randomization again and again. If you decide to do so, please write your code to save any such files with processed data in the directory where this file resides. This way, we can run your code without having to alter it.\n",
    "\n",
    "If you need to save any new data, think carefully about the most efficient way, both in terms of time and space, to save them."
   ]
  },
  {
   "cell_type": "markdown",
   "metadata": {},
   "source": [
    "## Import and run your code here\n",
    "\n",
    "Keep your code in separate `.py` files and then import it in the code cell below. In the subsequent cells, call the functions/methods you need to conduct the requested analyses. We should be able to run all cells here to calculate again the results and get the requested output, without having to modify your code in any way. "
   ]
  },
  {
   "cell_type": "code",
   "execution_count": 1,
   "metadata": {},
   "outputs": [],
   "source": [
    "import modules.stats as stat\n",
    "import modules.randomisations as randoms\n",
    "import modules.data as data\n",
    "import modules.cheaters as cheaters"
   ]
  },
  {
   "cell_type": "code",
   "execution_count": 2,
   "metadata": {},
   "outputs": [],
   "source": [
    "# Import the data\n",
    "cheater_id, first_cheated, banned = data.cheaters('../assignment-final-data/cheaters.txt')\n",
    "match_id, player_id, team_id = data.team('../assignment-final-data/team_ids.txt')\n",
    "match_ID, killer_id, killed_id, time = data.kills('../assignment-final-data/kills.txt')"
   ]
  },
  {
   "cell_type": "markdown",
   "metadata": {},
   "source": [
    "### 1. Do cheaters team up?\n",
    "\n",
    "Use the files `cheaters.txt` and `team_ids.txt` to estimate how often cheaters (regardless of when exactly they started cheating) end up on the same team. Your output should say how many teams have 0, 1, 2, or 4 cheaters.\n",
    "\n",
    "Now, randomly shuffle the team ids among the players in a match. Repeat this 20 times and estimate the expected counts as before. Output the mean and the 95% confidence intervals for the expected counts. \n",
    "\n",
    "*Optional: Conclude in a short comment what you observe. This reflection is optional and will not be marked.*"
   ]
  },
  {
   "cell_type": "code",
   "execution_count": 3,
   "metadata": {},
   "outputs": [
    {
     "name": "stdout",
     "output_type": "stream",
     "text": [
      "The expected count is: {0: 170782, 1: 3199, 2: 182, 3: 9, 4: 2}\n",
      "The expected counts for the randomisations are: [170604, 170608, 170610, 170612, 170604, 170614, 170617, 170602, 170614, 170617, 170613, 170617, 170610, 170610, 170613, 170620, 170604, 170605, 170605, 170605][3546, 3534, 3531, 3526, 3542, 3522, 3516, 3546, 3523, 3517, 3524, 3516, 3530, 3530, 3524, 3510, 3542, 3540, 3540, 3540][20, 32, 32, 36, 28, 38, 41, 26, 36, 39, 37, 41, 34, 34, 37, 44, 28, 29, 29, 29][4, 0, 1, 0, 0, 0, 0, 0, 1, 1, 0, 0, 0, 0, 0, 0, 0, 0, 0, 0][0, 0, 0, 0, 0, 0, 0, 0, 0, 0, 0, 0, 0, 0, 0, 0, 0, 0, 0, 0]\n",
      "Th mean and confidence intervals for the randomisations are: (170610.2, 170612.56058083844, 170607.83941916158)(3529.95, 3534.7498942751513, 3525.1501057248483)(33.5, 36.112258550917595, 30.8877414490824)(0.35, 0.7590376382115516, -0.05903763821155156)(0, 0.0, 0.0)\n"
     ]
    }
   ],
   "source": [
    "# Download the data \n",
    "diction, cheater_dummy = data.diction1(cheater_id, match_id, team_id, player_id)\n",
    "\n",
    "# Run the fucntions on the normal data to get the expected count\n",
    "teams = cheaters.Teams(diction)\n",
    "count = stat.get_count(teams)\n",
    "\n",
    "# Create empty lists to store randomisation results in. \n",
    "results = []\n",
    "zero = []\n",
    "one = []\n",
    "two = []\n",
    "three = []\n",
    "four = []\n",
    "\n",
    "# Run the 20 randomisations. \n",
    "for i in range(20):\n",
    "    diction_r = randoms.Randomisation1(diction)\n",
    "    diction_r = cheaters.Teams(diction_r)\n",
    "    results.append(stat.get_count(diction_r))\n",
    "\n",
    "    zero.append(results[i][0]) \n",
    "    one.append(results[i][1])\n",
    "    two.append(results[i][2])\n",
    "    three.append(results[i][3])\n",
    "    four.append(results[i][4])\n",
    "\n",
    "# Compute stats. \n",
    "a = stat.conf_int(zero)\n",
    "b = stat.conf_int(one)\n",
    "c = stat.conf_int(two)\n",
    "d = stat.conf_int(three)\n",
    "e = stat.conf_int(four)\n",
    "\n",
    "print(\"The expected count is: \" + str(count))\n",
    "\n",
    "print(\"The expected counts for the randomisations are: \" + str(zero) + str(one) + str(two) + str(three) + str(four))\n",
    "\n",
    "print(\"Th mean and confidence intervals for the randomisations are: \" + str(a) + str(b) + str(c) + str(d) + str(e))"
   ]
  },
  {
   "cell_type": "markdown",
   "metadata": {},
   "source": [
    "### 2. Do victims of cheating start cheating?\n",
    "\n",
    "Use the files `cheaters.txt` and `kills.txt` to count how many players got killed by an active cheater on at least one occasion and then started cheating. Specifically, we are interested in situations where:\n",
    "\n",
    "1. Player B has started cheating but player A is not cheating.\n",
    "2. Player B kills player A.\n",
    "3. At some point afterwards, player A starts cheating.\n",
    "\n",
    "Output the count in the data. \n",
    "\n",
    "Then, simulate alternative worlds in which everything is the same but the events took somewhat different sequence. To do so, randomize within a game, keeping the timing and structure of interactions but shuffling the player ids. Generate 20 randomizations like this and estimate the expected count of victims of cheating who start cheating as before. Output the mean and the 95% confidence interval for the expected count in these randomized worlds.\n",
    "\n",
    "*Optional: Conclude in a short comment what you observe. This reflection is optional and will not be marked.*\n",
    "\n",
    "#### Hint\n",
    "\n",
    "Starting time of cheating is estimated as a date, so assume that a player cheats on any match that they started playing on that date or afterwards. Use the match starting date so that if the match started before midnight of the cheating date but ended after midnight, we will assume that the player was not cheating just yet. \n"
   ]
  },
  {
   "cell_type": "code",
   "execution_count": 5,
   "metadata": {},
   "outputs": [
    {
     "name": "stdout",
     "output_type": "stream",
     "text": [
      "The expected count is: 47\n",
      "The expected counts for the randomisations are: [25, 33, 28, 38, 29, 43, 33, 42, 41, 25, 47, 26, 35, 31, 42, 30, 35, 32, 44, 38]\n",
      "The mean and conidence intervals for the randomisations are: (34.85, 37.806373703320375, 31.893626296679628)\n"
     ]
    }
   ],
   "source": [
    "# Download the data \n",
    "diction2 = data.diction2(match_ID, killed_id, killer_id, time)\n",
    "\n",
    "# Run the fucntions on the normal data to find the expected count. \n",
    "killers_cheated = cheaters.killerCheated(diction2, cheater_id, first_cheated)\n",
    "victims = cheaters.KilledCheated(killers_cheated, cheater_id, first_cheated)\n",
    "\n",
    "killed_count = 0\n",
    "\n",
    "# For loop to sum the expected count. \n",
    "for match in victims.keys():\n",
    "    killed_count += sum(victims[match]['killed_is_cheat'])\n",
    "\n",
    "# Creat an empty list to store randomisation results. \n",
    "results2 = []\n",
    "\n",
    "# Run the 20 randomisations\n",
    "for i in range(20):\n",
    "    killed_counts = 0\n",
    "    diction_2 = randoms.Randomisation2(diction2)\n",
    "    diction_22 = cheaters.killerCheated(diction_2, cheater_id, first_cheated)\n",
    "    diction_222 = cheaters.KilledCheated(diction_22, cheater_id, first_cheated)\n",
    "\n",
    "    for match in diction_222.keys():\n",
    "        killed_counts += sum(diction_222[match]['killed_is_cheat'])\n",
    "    results2.append(killed_counts)   \n",
    "\n",
    "\n",
    "print(\"The expected count is: \" + str(killed_count))\n",
    "\n",
    "print(\"The expected counts for the randomisations are: \" + str(results2))\n",
    "\n",
    "print(\"The mean and conidence intervals for the randomisations are: \" + str(stat.conf_int(results2)))\n"
   ]
  },
  {
   "cell_type": "markdown",
   "metadata": {},
   "source": [
    "### 3. Do observers of cheating start cheating?\n",
    "\n",
    "Use the files `cheaters.txt` and `kills.txt` to count how many players observed an active cheater on at least one occasion and then started cheating. Cheating players can be recognized because they exhibit abnormal killing patterns. We will assume that player A realizes that player B cheats if:\n",
    "\n",
    "1. Player B has started cheating but player A is not cheating.\n",
    "2. Player B kills at least 3 other players before player A gets killed in the game.\n",
    "3. At some point afterwards, player A starts cheating.\n",
    "\n",
    "Output the count in the data.\n",
    "\n",
    "Then, use the 20 randomizations from Part 2 to estimate the expected count of observers of cheating who start cheating. Output the mean and the 95% confidence interval for the expected count in these randomized worlds.\n",
    "\n",
    "*Optional: Conclude in a short comment what you observe. This reflection is optional and will not be marked.*"
   ]
  },
  {
   "cell_type": "code",
   "execution_count": 9,
   "metadata": {},
   "outputs": [
    {
     "name": "stdout",
     "output_type": "stream",
     "text": [
      "The expected count is: 212\n",
      "The expected counts for the randomisations are: [136, 121, 124, 155, 134, 150, 126, 137, 143, 146, 131, 151, 118, 126, 129, 149, 136, 128, 128, 121]\n",
      "The mean and confidence intervals for the ranomisation are: (134.45, 139.35201116621374, 129.54798883378623)\n"
     ]
    }
   ],
   "source": [
    "# Get the data \n",
    "diction3 = data.diction3(match_ID, killed_id, killer_id, time)\n",
    "\n",
    "# Run the normal data to find the expected count. \n",
    "killed_three = cheaters.KilledThree(diction3, cheater_id, first_cheated)\n",
    "killed_three = len(set(killed_three))\n",
    "\n",
    "\n",
    "# Creat an empty list to store randomisation results. \n",
    "results3 = []\n",
    "\n",
    "# Run the 20 randomisations\n",
    "for i in range(20):\n",
    "    killed3_cheat = 0\n",
    "    rand3 = randoms.Randomisation2(diction3)\n",
    "    n_cr = cheaters.KilledThree(rand3, cheater_id, first_cheated)\n",
    "    for n in n_cr:\n",
    "        killed3_cheat += 1\n",
    "    results3.append(killed3_cheat)  \n",
    "    \n",
    "print(\"The expected count is: \" + str(killed_three))\n",
    "\n",
    "print(\"The expected counts for the randomisations are: \" + str(results3))\n",
    "\n",
    "print(\"The mean and confidence intervals for the ranomisation are: \" + str(stat.conf_int(results3)))"
   ]
  },
  {
   "cell_type": "markdown",
   "metadata": {},
   "source": [
    "---\n",
    "\n",
    "### Evaluation\n",
    "\n",
    "| Aspect         | Mark     | Comment   \n",
    "|:--------------:|:--------:|:----------------------\n",
    "| Code runs      |   /20    |              \n",
    "| Output 1       |   /10    | \n",
    "| Output 2       |   /10    | \n",
    "| Output 3       |   /10    | \n",
    "| Legibility     |   /10    | \n",
    "| Modularity     |   /10    | \n",
    "| Optimization   |   /30    | \n",
    "| **Total**      |**/100**  | \n"
   ]
  }
 ],
 "metadata": {
  "kernelspec": {
   "display_name": "Python 3 (ipykernel)",
   "language": "python",
   "name": "python3"
  },
  "language_info": {
   "codemirror_mode": {
    "name": "ipython",
    "version": 3
   },
   "file_extension": ".py",
   "mimetype": "text/x-python",
   "name": "python",
   "nbconvert_exporter": "python",
   "pygments_lexer": "ipython3",
   "version": "3.9.12"
  },
  "vscode": {
   "interpreter": {
    "hash": "9714395dfd04536adb214c0db8abd6ddb8674e996ebe3f6ccc5e478719f814a2"
   }
  }
 },
 "nbformat": 4,
 "nbformat_minor": 2
}
